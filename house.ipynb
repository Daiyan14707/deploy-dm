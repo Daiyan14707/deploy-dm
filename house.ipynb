{
 "cells": [
  {
   "cell_type": "code",
   "execution_count": 99,
   "metadata": {},
   "outputs": [],
   "source": [
    "import pandas as pd\n",
    "import numpy as np\n",
    "from sklearn.cluster import KMeans\n",
    "from sklearn.model_selection import train_test_split, GridSearchCV\n",
    "from sklearn.ensemble import RandomForestClassifier, RandomForestRegressor\n",
    "from sklearn.metrics import classification_report, accuracy_score, mean_absolute_error, mean_squared_error\n",
    "from sklearn.preprocessing import StandardScaler, LabelEncoder\n",
    "from sklearn.decomposition import PCA\n",
    "from sklearn.linear_model import LinearRegression\n",
    "from sklearn.metrics import silhouette_score\n",
    "import seaborn as sns\n",
    "import matplotlib.pyplot as plt"
   ]
  },
  {
   "cell_type": "markdown",
   "metadata": {},
   "source": [
    "# 1. Load Dataset"
   ]
  },
  {
   "cell_type": "code",
   "execution_count": 100,
   "metadata": {},
   "outputs": [
    {
     "name": "stdout",
     "output_type": "stream",
     "text": [
      "         HARGA    LT   LB  JKT  JKM  GRS    KOTA\n",
      "0  28000000000  1100  700    5    6  ADA  JAKSEL\n",
      "1  19000000000   824  800    4    4  ADA  JAKSEL\n",
      "2   4700000000   500  400    4    3  ADA  JAKSEL\n",
      "3   4900000000   251  300    5    4  ADA  JAKSEL\n",
      "4  28000000000  1340  575    4    5  ADA  JAKSEL\n"
     ]
    }
   ],
   "source": [
    "data_file = 'HARGA RUMAH JAKSEL.xlsx'\n",
    "df = pd.read_excel(data_file)\n",
    "print(df.head())"
   ]
  },
  {
   "cell_type": "markdown",
   "metadata": {},
   "source": [
    "# 2. Exploratory Data Analysis"
   ]
  },
  {
   "cell_type": "code",
   "execution_count": 101,
   "metadata": {},
   "outputs": [
    {
     "name": "stdout",
     "output_type": "stream",
     "text": [
      "Dataset Overview:\n",
      "          HARGA    LT   LB  JKT  JKM  GRS    KOTA\n",
      "0  28000000000  1100  700    5    6  ADA  JAKSEL\n",
      "1  19000000000   824  800    4    4  ADA  JAKSEL\n",
      "2   4700000000   500  400    4    3  ADA  JAKSEL\n",
      "3   4900000000   251  300    5    4  ADA  JAKSEL\n",
      "4  28000000000  1340  575    4    5  ADA  JAKSEL\n",
      "\n",
      "Summary Statistics:\n",
      "                HARGA           LT            LB          JKT          JKM  \\\n",
      "count   1.001000e+03  1001.000000   1001.000000  1001.000000  1001.000000   \n",
      "unique           NaN          NaN           NaN          NaN          NaN   \n",
      "top              NaN          NaN           NaN          NaN          NaN   \n",
      "freq             NaN          NaN           NaN          NaN          NaN   \n",
      "mean    1.747472e+10   530.504496    487.275724     4.457542     3.940060   \n",
      "std     2.079548e+10   531.069773    452.872262     2.004606     1.903261   \n",
      "min     4.300000e+08    22.000000     38.000000     1.000000     1.000000   \n",
      "25%     6.750000e+09   220.000000    300.000000     4.000000     3.000000   \n",
      "50%     1.350000e+10   400.000000    411.000000     4.000000     4.000000   \n",
      "75%     2.000000e+10   677.000000    600.000000     5.000000     4.000000   \n",
      "max     2.500000e+11  6790.000000  10000.000000    27.000000    27.000000   \n",
      "\n",
      "         GRS    KOTA  \n",
      "count   1001    1001  \n",
      "unique     2       1  \n",
      "top      ADA  JAKSEL  \n",
      "freq     779    1001  \n",
      "mean     NaN     NaN  \n",
      "std      NaN     NaN  \n",
      "min      NaN     NaN  \n",
      "25%      NaN     NaN  \n",
      "50%      NaN     NaN  \n",
      "75%      NaN     NaN  \n",
      "max      NaN     NaN  \n",
      "\n",
      "Missing Values:\n",
      " HARGA    0\n",
      "LT       0\n",
      "LB       0\n",
      "JKT      0\n",
      "JKM      0\n",
      "GRS      0\n",
      "KOTA     0\n",
      "dtype: int64\n",
      "\n",
      "Data Types:\n",
      " HARGA     int64\n",
      "LT        int64\n",
      "LB        int64\n",
      "JKT       int64\n",
      "JKM       int64\n",
      "GRS      object\n",
      "KOTA     object\n",
      "dtype: object\n"
     ]
    }
   ],
   "source": [
    "print(\"Dataset Overview:\\n\", df.head())\n",
    "print(\"\\nSummary Statistics:\\n\", df.describe(include='all'))\n",
    "print(\"\\nMissing Values:\\n\", df.isnull().sum())\n",
    "print(\"\\nData Types:\\n\", df.dtypes)"
   ]
  },
  {
   "cell_type": "markdown",
   "metadata": {},
   "source": [
    "# 3. Data Preprocessing\n",
    "## Handling missing values"
   ]
  },
  {
   "cell_type": "code",
   "execution_count": 102,
   "metadata": {},
   "outputs": [],
   "source": [
    "df = df.dropna()"
   ]
  },
  {
   "cell_type": "markdown",
   "metadata": {},
   "source": [
    "## Converting categorical columns to numeric using LabelEncoder"
   ]
  },
  {
   "cell_type": "code",
   "execution_count": 103,
   "metadata": {},
   "outputs": [],
   "source": [
    "categorical_features = df.select_dtypes(include=['object']).columns.tolist()\n",
    "label_encoders = {}\n",
    "for col in categorical_features:\n",
    "    le = LabelEncoder()\n",
    "    df[col] = le.fit_transform(df[col].astype(str))\n",
    "    label_encoders[col] = le"
   ]
  },
  {
   "cell_type": "markdown",
   "metadata": {},
   "source": [
    "# Converting columns to numeric if possible"
   ]
  },
  {
   "cell_type": "code",
   "execution_count": 104,
   "metadata": {},
   "outputs": [],
   "source": [
    "def convert_to_numeric(column):\n",
    "    try:\n",
    "        return pd.to_numeric(column, errors='coerce')\n",
    "    except:\n",
    "        return column\n",
    "\n",
    "df = df.apply(convert_to_numeric)"
   ]
  },
  {
   "cell_type": "markdown",
   "metadata": {},
   "source": [
    "# Selecting numerical features for clustering"
   ]
  },
  {
   "cell_type": "code",
   "execution_count": 105,
   "metadata": {},
   "outputs": [],
   "source": [
    "numerical_features_without_harga = [col for col in numerical_features if col != 'HARGA']"
   ]
  },
  {
   "cell_type": "markdown",
   "metadata": {},
   "source": [
    "# Ensure all numerical features have valid values"
   ]
  },
  {
   "cell_type": "code",
   "execution_count": 106,
   "metadata": {},
   "outputs": [],
   "source": [
    "for col in numerical_features_without_harga :\n",
    "    if not np.isfinite(df[col]).all():  \n",
    "        raise ValueError(f\"Non-finite values detected in column: {col}\")\n",
    "\n",
    "scaler = StandardScaler()\n",
    "scaler.fit(df[numerical_features_without_harga].values)  # Gunakan .values untuk array\n",
    "scaled_data = scaler.transform(df[numerical_features_without_harga].values)"
   ]
  },
  {
   "cell_type": "markdown",
   "metadata": {},
   "source": [
    "# 4. Clustering"
   ]
  },
  {
   "cell_type": "code",
   "execution_count": 114,
   "metadata": {},
   "outputs": [],
   "source": [
    "if 'Price' in df.columns:\n",
    "    price_data = df[['Price']]\n",
    "    price_scaled = scaler.fit_transform(price_data)\n",
    "\n",
    "    # Clustering with three clusters (Murah, Sedang, Mahal)\n",
    "    kmeans_price = KMeans(n_clusters=3, random_state=42)\n",
    "    df['Price_Cluster'] = kmeans_price.fit_predict(price_scaled)\n",
    "\n",
    "    # Identify clusters for Murah, Sedang, Mahal\n",
    "    cluster_means = df.groupby('Price_Cluster')['Price'].mean()\n",
    "    cluster_mapping = {\n",
    "        cluster_means.idxmin(): 'Murah',\n",
    "        cluster_means.idxmax(): 'Mahal',\n",
    "    }\n",
    "    remaining_cluster = set(cluster_means.index) - set(cluster_mapping.keys())\n",
    "    for cluster in remaining_cluster:\n",
    "        cluster_mapping[cluster] = 'Sedang'\n",
    "\n",
    "    df['Price_Cluster_Label'] = df['Price_Cluster'].map(cluster_mapping)\n",
    "\n",
    "    print(\"\\nCluster Mapping (Price):\", cluster_mapping)\n",
    "    print(\"Clustered Data:\\n\", df[['Price', 'Price_Cluster_Label']].head())\n",
    "\n",
    "    # Visualize Price Clusters\n",
    "    sns.boxplot(data=df, x='Price_Cluster_Label', y='Price', palette='Set2')\n",
    "    plt.title('Distribusi Harga Berdasarkan Cluster')\n",
    "    plt.show()\n"
   ]
  },
  {
   "cell_type": "markdown",
   "metadata": {},
   "source": [
    "# General Clustering and PCA visualization"
   ]
  },
  {
   "cell_type": "code",
   "execution_count": 115,
   "metadata": {},
   "outputs": [
    {
     "name": "stderr",
     "output_type": "stream",
     "text": [
      "e:\\Akbar\\Anaconda3\\Lib\\site-packages\\sklearn\\cluster\\_kmeans.py:870: FutureWarning: The default value of `n_init` will change from 10 to 'auto' in 1.4. Set the value of `n_init` explicitly to suppress the warning\n",
      "  warnings.warn(\n",
      "e:\\Akbar\\Anaconda3\\Lib\\site-packages\\sklearn\\cluster\\_kmeans.py:1382: UserWarning: KMeans is known to have a memory leak on Windows with MKL, when there are less chunks than available threads. You can avoid it by setting the environment variable OMP_NUM_THREADS=4.\n",
      "  warnings.warn(\n"
     ]
    },
    {
     "name": "stdout",
     "output_type": "stream",
     "text": [
      "Silhouette Score: 0.47\n"
     ]
    },
    {
     "data": {
      "image/png": "[encoded data removed]",
      "text/plain": [
       "<Figure size 640x480 with 1 Axes>"
      ]
     },
     "metadata": {},
     "output_type": "display_data"
    }
   ],
   "source": [
    "kmeans = KMeans(n_clusters=3, random_state=42)\n",
    "df['Cluster'] = kmeans.fit_predict(scaled_data)\n",
    "silhouette_avg = silhouette_score(scaled_data, df['Cluster'])\n",
    "print(f\"Silhouette Score: {silhouette_avg:.2f}\")\n",
    "\n",
    "pca = PCA(n_components=2)\n",
    "reduced_data = pca.fit_transform(scaled_data)\n",
    "df['PCA1'] = reduced_data[:, 0]\n",
    "df['PCA2'] = reduced_data[:, 1]\n",
    "sns.scatterplot(data=df, x='PCA1', y='PCA2', hue='Cluster', palette='Set2')\n",
    "for i, txt in enumerate(df['Cluster']):\n",
    "    plt.annotate(txt, (df['PCA1'].iloc[i], df['PCA2'].iloc[i]))\n",
    "plt.title('Clusters Visualized with PCA')\n",
    "plt.show()"
   ]
  },
  {
   "cell_type": "markdown",
   "metadata": {},
   "source": [
    "# 5. Classification"
   ]
  },
  {
   "cell_type": "code",
   "execution_count": 109,
   "metadata": {},
   "outputs": [],
   "source": [
    "X = df[numerical_features_without_harga]\n",
    "y = df['Cluster']\n",
    "X_train, X_test, y_train, y_test = train_test_split(X, y, test_size=0.2, random_state=42)"
   ]
  },
  {
   "cell_type": "markdown",
   "metadata": {},
   "source": [
    "# Using Random Forest for Classification"
   ]
  },
  {
   "cell_type": "code",
   "execution_count": 110,
   "metadata": {},
   "outputs": [
    {
     "name": "stdout",
     "output_type": "stream",
     "text": [
      "Best Parameters for Classification: {'max_depth': None, 'min_samples_split': 2, 'n_estimators': 50}\n",
      "Classification Report:\n",
      "               precision    recall  f1-score   support\n",
      "\n",
      "           0       1.00      1.00      1.00       159\n",
      "           1       0.98      1.00      0.99        41\n",
      "           2       0.00      0.00      0.00         1\n",
      "\n",
      "    accuracy                           1.00       201\n",
      "   macro avg       0.66      0.67      0.66       201\n",
      "weighted avg       0.99      1.00      0.99       201\n",
      "\n",
      "Accuracy Score: 0.9950248756218906\n"
     ]
    },
    {
     "name": "stderr",
     "output_type": "stream",
     "text": [
      "e:\\Akbar\\Anaconda3\\Lib\\site-packages\\sklearn\\metrics\\_classification.py:1344: UndefinedMetricWarning: Precision and F-score are ill-defined and being set to 0.0 in labels with no predicted samples. Use `zero_division` parameter to control this behavior.\n",
      "  _warn_prf(average, modifier, msg_start, len(result))\n",
      "e:\\Akbar\\Anaconda3\\Lib\\site-packages\\sklearn\\metrics\\_classification.py:1344: UndefinedMetricWarning: Precision and F-score are ill-defined and being set to 0.0 in labels with no predicted samples. Use `zero_division` parameter to control this behavior.\n",
      "  _warn_prf(average, modifier, msg_start, len(result))\n",
      "e:\\Akbar\\Anaconda3\\Lib\\site-packages\\sklearn\\metrics\\_classification.py:1344: UndefinedMetricWarning: Precision and F-score are ill-defined and being set to 0.0 in labels with no predicted samples. Use `zero_division` parameter to control this behavior.\n",
      "  _warn_prf(average, modifier, msg_start, len(result))\n"
     ]
    }
   ],
   "source": [
    "classifier = RandomForestClassifier(random_state=42)\n",
    "param_grid = {\n",
    "    'n_estimators': [50, 100, 200],\n",
    "    'max_depth': [None, 10, 20],\n",
    "    'min_samples_split': [2, 5, 10]\n",
    "}\n",
    "grid_search = GridSearchCV(estimator=classifier, param_grid=param_grid, cv=5, scoring='accuracy', n_jobs=-1)\n",
    "grid_search.fit(X_train, y_train)\n",
    "classifier = grid_search.best_estimator_\n",
    "print(f\"Best Parameters for Classification: {grid_search.best_params_}\")\n",
    "\n",
    "y_pred = classifier.predict(X_test)\n",
    "print(\"Classification Report:\\n\", classification_report(y_test, y_pred))\n",
    "print(\"Accuracy Score:\", accuracy_score(y_test, y_pred))\n"
   ]
  },
  {
   "cell_type": "code",
   "execution_count": 111,
   "metadata": {},
   "outputs": [
    {
     "data": {
      "text/plain": [
       "Index(['HARGA', 'LT', 'LB', 'JKT', 'JKM', 'GRS', 'KOTA', 'Cluster', 'PCA1',\n",
       "       'PCA2'],\n",
       "      dtype='object')"
      ]
     },
     "execution_count": 111,
     "metadata": {},
     "output_type": "execute_result"
    }
   ],
   "source": [
    "df.columns"
   ]
  },
  {
   "cell_type": "markdown",
   "metadata": {},
   "source": [
    "# 6. Price Prediction"
   ]
  },
  {
   "cell_type": "code",
   "execution_count": 112,
   "metadata": {},
   "outputs": [
    {
     "name": "stdout",
     "output_type": "stream",
     "text": [
      "Best Parameters for Price Prediction: {'max_depth': 20, 'min_samples_split': 10, 'n_estimators': 200}\n",
      "\n",
      "Price Prediction Model Performance:\n",
      "R^2 Score: 0.55\n",
      "Mean Absolute Error (MAE): 4415111989.22\n",
      "Root Mean Square Error (RMSE): 8209497780.14\n",
      "Example Input for Price Prediction: [500, 1, 2, 3, 0, 0]\n",
      "Predicted Price: 643178237.4247481\n"
     ]
    },
    {
     "name": "stderr",
     "output_type": "stream",
     "text": [
      "e:\\Akbar\\Anaconda3\\Lib\\site-packages\\sklearn\\base.py:439: UserWarning: X does not have valid feature names, but RandomForestRegressor was fitted with feature names\n",
      "  warnings.warn(\n"
     ]
    }
   ],
   "source": [
    "if 'HARGA' in df.columns:\n",
    "    price_features = [col for col in numerical_features_without_harga]\n",
    "    X_price = df[price_features]\n",
    "    y_price = df['HARGA']\n",
    "\n",
    "    X_price_train, X_price_test, y_price_train, y_price_test = train_test_split(X_price, y_price, test_size=0.2, random_state=42)\n",
    "\n",
    "    price_model = RandomForestRegressor(random_state=42)\n",
    "    param_grid_reg = {\n",
    "        'n_estimators': [50, 100, 200],\n",
    "        'max_depth': [None, 10, 20],\n",
    "        'min_samples_split': [2, 5, 10]\n",
    "    }\n",
    "    grid_search_reg = GridSearchCV(estimator=price_model, param_grid=param_grid_reg, cv=5, scoring='neg_mean_absolute_error', n_jobs=-1)\n",
    "    grid_search_reg.fit(X_price_train, y_price_train)\n",
    "    price_model = grid_search_reg.best_estimator_\n",
    "    print(f\"Best Parameters for Price Prediction: {grid_search_reg.best_params_}\")\n",
    "\n",
    "    y_price_pred = price_model.predict(X_price_test)\n",
    "    mae = mean_absolute_error(y_price_test, y_price_pred)\n",
    "    rmse = np.sqrt(mean_squared_error(y_price_test, y_price_pred))\n",
    "    print(\"\\nPrice Prediction Model Performance:\")\n",
    "    print(f\"R^2 Score: {price_model.score(X_price_test, y_price_test):.2f}\")\n",
    "    print(f\"Mean Absolute Error (MAE): {mae:.2f}\")\n",
    "    print(f\"Root Mean Square Error (RMSE): {rmse:.2f}\")\n",
    "\n",
    "    # Deployment function for price prediction\n",
    "    def predict_price(input_data):\n",
    "        \"\"\"Predict the price for new input data.\"\"\"\n",
    "        input_scaled = scaler.transform([input_data])\n",
    "        return price_model.predict([input_scaled[0][:len(price_features)]])[0]\n",
    "\n",
    "    # Example Input for Price Prediction\n",
    "    example_price_input = [500, 1, 2, 3, 0, 0]\n",
    "    predicted_price = predict_price(example_price_input)\n",
    "    print(f\"Example Input for Price Prediction: {example_price_input}\")\n",
    "    print(f\"Predicted Price: {predicted_price}\")\n",
    "else:\n",
    "    print(\"Price column not found in the dataset. Price prediction cannot be performed.\")"
   ]
  },
  {
   "cell_type": "code",
   "execution_count": null,
   "metadata": {},
   "outputs": [],
   "source": []
  }
 ],
 "metadata": {
  "kernelspec": {
   "display_name": "Python 3",
   "language": "python",
   "name": "python3"
  },
  "language_info": {
   "codemirror_mode": {
    "name": "ipython",
    "version": 3
   },
   "file_extension": ".py",
   "mimetype": "text/x-python",
   "name": "python",
   "nbconvert_exporter": "python",
   "pygments_lexer": "ipython3",
   "version": "3.11.7"
  }
 },
 "nbformat": 4,
 "nbformat_minor": 2
}
